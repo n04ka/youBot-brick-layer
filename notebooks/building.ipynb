{
 "cells": [
  {
   "cell_type": "code",
   "execution_count": 159,
   "metadata": {},
   "outputs": [],
   "source": [
    "import numpy as np\n",
    "import matplotlib.pyplot as plt\n",
    "import cv2 as cv2\n",
    "import json\n",
    "import schematics"
   ]
  },
  {
   "cell_type": "code",
   "execution_count": 160,
   "metadata": {},
   "outputs": [],
   "source": [
    "BRICK = {'w' : 5.5000e-02,\n",
    "         'l' : 1.1458e-01,\n",
    "         'h' : 2.9792e-02,\n",
    "         'interval' : 0.00458}"
   ]
  },
  {
   "cell_type": "code",
   "execution_count": 194,
   "metadata": {},
   "outputs": [],
   "source": [
    "xs = [BRICK['l']/2 + i * (BRICK['l'] + BRICK['interval']) for i in range(5)]*2\n",
    "ys = [0.] * 5 + [(BRICK['w'] + BRICK['interval'])*10]*5\n",
    "zs = [BRICK['h'] / 2]*10\n",
    "rs = [0.]*10\n",
    "\n",
    "bricks = {i : {'x' : x, 'y' : ys[i], 'z' : zs[i], 'r' : rs[i], 'w' : BRICK['w'], 'l' : BRICK['l'], 'h' : BRICK['h']} for i, x in enumerate(xs)}\n",
    "\n",
    "blueprint = {'interval' : 0.00458,\n",
    "             'total' : len(bricks),\n",
    "             'bricks' : bricks}\n",
    "\n",
    "with open('schemes/parallel_scheme.json', 'w') as file:\n",
    "    file.write(json.dumps(blueprint, indent=4))"
   ]
  },
  {
   "cell_type": "code",
   "execution_count": 186,
   "metadata": {},
   "outputs": [],
   "source": [
    "n = 10\n",
    "xs = [BRICK['l']/2 + i * (BRICK['l'] + BRICK['interval']) for i in range(n)]\n",
    "ys = [0.] * n\n",
    "xs.extend([BRICK['w']/2 + i * (BRICK['w'] + BRICK['interval']) for i in range(2*n)])\n",
    "ys.extend([BRICK['w']/2 + BRICK['l']/2 + BRICK['interval']]*2*n)\n",
    "zs = [BRICK['h'] / 2]*n*3\n",
    "rs = [0.]*n+[np.pi/2]*2*n"
   ]
  },
  {
   "cell_type": "code",
   "execution_count": 187,
   "metadata": {},
   "outputs": [],
   "source": [
    "bricks = {i : {'x' : x, 'y' : ys[i], 'z' : zs[i], 'r' : rs[i], 'w' : BRICK['w'], 'l' : BRICK['l'], 'h' : BRICK['h']} for i, x in enumerate(xs)}\n",
    "\n",
    "blueprint = {'interval' : 0.00458,\n",
    "             'total' : len(bricks),\n",
    "             'bricks' : bricks}\n",
    "\n",
    "with open('schemes/default_scheme.json', 'w') as file:\n",
    "    file.write(json.dumps(blueprint, indent=4))"
   ]
  },
  {
   "cell_type": "code",
   "execution_count": 195,
   "metadata": {},
   "outputs": [
    {
     "name": "stderr",
     "output_type": "stream",
     "text": [
      "Clipping input data to the valid range for imshow with RGB data ([0..1] for floats or [0..255] for integers).\n"
     ]
    },
    {
     "data": {
      "image/png": "[encoded data removed]",
      "text/plain": [
       "<Figure size 640x480 with 1 Axes>"
      ]
     },
     "metadata": {},
     "output_type": "display_data"
    }
   ],
   "source": [
    "with open('schemes/parallel_scheme.json', 'r') as file:\n",
    "    scheme = schematics.Scheme(json.loads(file.read()))\n",
    "scheme.show()"
   ]
  }
 ],
 "metadata": {
  "kernelspec": {
   "display_name": "Python 3",
   "language": "python",
   "name": "python3"
  },
  "language_info": {
   "codemirror_mode": {
    "name": "ipython",
    "version": 3
   },
   "file_extension": ".py",
   "mimetype": "text/x-python",
   "name": "python",
   "nbconvert_exporter": "python",
   "pygments_lexer": "ipython3",
   "version": "3.11.5"
  }
 },
 "nbformat": 4,
 "nbformat_minor": 2
}
